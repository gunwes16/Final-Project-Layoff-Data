{
 "cells": [
  {
   "cell_type": "code",
   "execution_count": 23,
   "id": "ef88faec",
   "metadata": {},
   "outputs": [],
   "source": [
    "import pandas as pd\n",
    "import numpy as np\n",
    "\n",
    "import statsmodels.formula.api as sm\n",
    "import scipy.stats as stats\n",
    "\n",
    "from matplotlib import pyplot as plt\n",
    "get_ipython().run_line_magic('matplotlib', 'inline')\n",
    "\n",
    "import seaborn as sns\n"
   ]
  },
  {
   "cell_type": "code",
   "execution_count": 24,
   "id": "24737522",
   "metadata": {},
   "outputs": [
    {
     "data": {
      "text/html": [
       "<div>\n",
       "<style scoped>\n",
       "    .dataframe tbody tr th:only-of-type {\n",
       "        vertical-align: middle;\n",
       "    }\n",
       "\n",
       "    .dataframe tbody tr th {\n",
       "        vertical-align: top;\n",
       "    }\n",
       "\n",
       "    .dataframe thead th {\n",
       "        text-align: right;\n",
       "    }\n",
       "</style>\n",
       "<table border=\"1\" class=\"dataframe\">\n",
       "  <thead>\n",
       "    <tr style=\"text-align: right;\">\n",
       "      <th></th>\n",
       "      <th>Company</th>\n",
       "      <th>Location</th>\n",
       "      <th>Industry</th>\n",
       "      <th>Laid_Off_Count</th>\n",
       "      <th>Date</th>\n",
       "      <th>Source</th>\n",
       "      <th>Funds_Raised</th>\n",
       "      <th>Stage</th>\n",
       "      <th>Date_Added</th>\n",
       "      <th>Country</th>\n",
       "      <th>Percentage</th>\n",
       "      <th>List_of_Employees_Laid_Off</th>\n",
       "    </tr>\n",
       "  </thead>\n",
       "  <tbody>\n",
       "    <tr>\n",
       "      <th>0</th>\n",
       "      <td>Vedantu</td>\n",
       "      <td>Bengaluru</td>\n",
       "      <td>Education</td>\n",
       "      <td>385.0</td>\n",
       "      <td>2022-12-07</td>\n",
       "      <td>https://economictimes.indiatimes.com/tech/star...</td>\n",
       "      <td>292.0</td>\n",
       "      <td>Series E</td>\n",
       "      <td>2022-12-07 16:28:02</td>\n",
       "      <td>India</td>\n",
       "      <td>NaN</td>\n",
       "      <td>Unknown</td>\n",
       "    </tr>\n",
       "    <tr>\n",
       "      <th>1</th>\n",
       "      <td>Loft</td>\n",
       "      <td>Sao Paulo</td>\n",
       "      <td>Real Estate</td>\n",
       "      <td>312.0</td>\n",
       "      <td>2022-12-07</td>\n",
       "      <td>https://www.bloomberglinea.com/english/brazili...</td>\n",
       "      <td>788.0</td>\n",
       "      <td>Unknown</td>\n",
       "      <td>2022-12-08 06:26:02</td>\n",
       "      <td>Brazil</td>\n",
       "      <td>0.12</td>\n",
       "      <td>Unknown</td>\n",
       "    </tr>\n",
       "    <tr>\n",
       "      <th>2</th>\n",
       "      <td>Plaid</td>\n",
       "      <td>SF Bay Area</td>\n",
       "      <td>Finance</td>\n",
       "      <td>260.0</td>\n",
       "      <td>2022-12-07</td>\n",
       "      <td>https://techcrunch.com/2022/12/07/plaid-layoff...</td>\n",
       "      <td>734.0</td>\n",
       "      <td>Series D</td>\n",
       "      <td>2022-12-07 16:22:04</td>\n",
       "      <td>United States</td>\n",
       "      <td>0.20</td>\n",
       "      <td>https://docs.google.com/spreadsheets/d/1Tqw-Iu...</td>\n",
       "    </tr>\n",
       "    <tr>\n",
       "      <th>3</th>\n",
       "      <td>Motive</td>\n",
       "      <td>SF Bay Area</td>\n",
       "      <td>Transportation</td>\n",
       "      <td>237.0</td>\n",
       "      <td>2022-12-07</td>\n",
       "      <td>https://gomotive.com/blog/shoaib-makanis-messa...</td>\n",
       "      <td>567.0</td>\n",
       "      <td>Series F</td>\n",
       "      <td>2022-12-08 06:21:12</td>\n",
       "      <td>United States</td>\n",
       "      <td>0.06</td>\n",
       "      <td>Unknown</td>\n",
       "    </tr>\n",
       "    <tr>\n",
       "      <th>4</th>\n",
       "      <td>Relativity</td>\n",
       "      <td>Chicago</td>\n",
       "      <td>Legal</td>\n",
       "      <td>150.0</td>\n",
       "      <td>2022-12-07</td>\n",
       "      <td>https://www.chicagobusiness.com/technology/sof...</td>\n",
       "      <td>125.0</td>\n",
       "      <td>Private Equity</td>\n",
       "      <td>2022-12-08 06:22:20</td>\n",
       "      <td>United States</td>\n",
       "      <td>0.10</td>\n",
       "      <td>Unknown</td>\n",
       "    </tr>\n",
       "  </tbody>\n",
       "</table>\n",
       "</div>"
      ],
      "text/plain": [
       "      Company     Location        Industry  Laid_Off_Count        Date  \\\n",
       "0     Vedantu    Bengaluru       Education           385.0  2022-12-07   \n",
       "1        Loft    Sao Paulo     Real Estate           312.0  2022-12-07   \n",
       "2       Plaid  SF Bay Area         Finance           260.0  2022-12-07   \n",
       "3      Motive  SF Bay Area  Transportation           237.0  2022-12-07   \n",
       "4  Relativity      Chicago           Legal           150.0  2022-12-07   \n",
       "\n",
       "                                              Source  Funds_Raised  \\\n",
       "0  https://economictimes.indiatimes.com/tech/star...         292.0   \n",
       "1  https://www.bloomberglinea.com/english/brazili...         788.0   \n",
       "2  https://techcrunch.com/2022/12/07/plaid-layoff...         734.0   \n",
       "3  https://gomotive.com/blog/shoaib-makanis-messa...         567.0   \n",
       "4  https://www.chicagobusiness.com/technology/sof...         125.0   \n",
       "\n",
       "            Stage           Date_Added        Country  Percentage  \\\n",
       "0        Series E  2022-12-07 16:28:02          India         NaN   \n",
       "1         Unknown  2022-12-08 06:26:02         Brazil        0.12   \n",
       "2        Series D  2022-12-07 16:22:04  United States        0.20   \n",
       "3        Series F  2022-12-08 06:21:12  United States        0.06   \n",
       "4  Private Equity  2022-12-08 06:22:20  United States        0.10   \n",
       "\n",
       "                          List_of_Employees_Laid_Off  \n",
       "0                                            Unknown  \n",
       "1                                            Unknown  \n",
       "2  https://docs.google.com/spreadsheets/d/1Tqw-Iu...  \n",
       "3                                            Unknown  \n",
       "4                                            Unknown  "
      ]
     },
     "execution_count": 24,
     "metadata": {},
     "output_type": "execute_result"
    }
   ],
   "source": [
    "df = pd.read_csv('layoffs_data.csv')\n",
    "df.head()"
   ]
  },
  {
   "cell_type": "code",
   "execution_count": 25,
   "id": "00bb5358",
   "metadata": {},
   "outputs": [
    {
     "name": "stdout",
     "output_type": "stream",
     "text": [
      "<class 'pandas.core.frame.DataFrame'>\n",
      "RangeIndex: 1757 entries, 0 to 1756\n",
      "Data columns (total 12 columns):\n",
      " #   Column                      Non-Null Count  Dtype  \n",
      "---  ------                      --------------  -----  \n",
      " 0   Company                     1757 non-null   object \n",
      " 1   Location                    1757 non-null   object \n",
      " 2   Industry                    1757 non-null   object \n",
      " 3   Laid_Off_Count              1237 non-null   float64\n",
      " 4   Date                        1756 non-null   object \n",
      " 5   Source                      1757 non-null   object \n",
      " 6   Funds_Raised                1627 non-null   float64\n",
      " 7   Stage                       1757 non-null   object \n",
      " 8   Date_Added                  1757 non-null   object \n",
      " 9   Country                     1757 non-null   object \n",
      " 10  Percentage                  1181 non-null   float64\n",
      " 11  List_of_Employees_Laid_Off  1757 non-null   object \n",
      "dtypes: float64(3), object(9)\n",
      "memory usage: 164.8+ KB\n"
     ]
    }
   ],
   "source": [
    "df.info()"
   ]
  },
  {
   "cell_type": "code",
   "execution_count": 26,
   "id": "47bf2244",
   "metadata": {},
   "outputs": [
    {
     "data": {
      "text/plain": [
       "Company                         0\n",
       "Location                        0\n",
       "Industry                        0\n",
       "Laid_Off_Count                520\n",
       "Date                            1\n",
       "Source                          0\n",
       "Funds_Raised                  130\n",
       "Stage                           0\n",
       "Date_Added                      0\n",
       "Country                         0\n",
       "Percentage                    576\n",
       "List_of_Employees_Laid_Off      0\n",
       "dtype: int64"
      ]
     },
     "execution_count": 26,
     "metadata": {},
     "output_type": "execute_result"
    }
   ],
   "source": [
    "df.isnull().sum()"
   ]
  },
  {
   "cell_type": "code",
   "execution_count": 27,
   "id": "2d67e760",
   "metadata": {},
   "outputs": [],
   "source": [
    "df.drop(columns = \"Source\", inplace = True)"
   ]
  },
  {
   "cell_type": "code",
   "execution_count": 28,
   "id": "3cd6eb97",
   "metadata": {},
   "outputs": [
    {
     "data": {
      "text/html": [
       "<div>\n",
       "<style scoped>\n",
       "    .dataframe tbody tr th:only-of-type {\n",
       "        vertical-align: middle;\n",
       "    }\n",
       "\n",
       "    .dataframe tbody tr th {\n",
       "        vertical-align: top;\n",
       "    }\n",
       "\n",
       "    .dataframe thead th {\n",
       "        text-align: right;\n",
       "    }\n",
       "</style>\n",
       "<table border=\"1\" class=\"dataframe\">\n",
       "  <thead>\n",
       "    <tr style=\"text-align: right;\">\n",
       "      <th></th>\n",
       "      <th>Company</th>\n",
       "      <th>Location</th>\n",
       "      <th>Industry</th>\n",
       "      <th>Laid_Off_Count</th>\n",
       "      <th>Date</th>\n",
       "      <th>Funds_Raised</th>\n",
       "      <th>Stage</th>\n",
       "      <th>Date_Added</th>\n",
       "      <th>Country</th>\n",
       "      <th>Percentage</th>\n",
       "      <th>List_of_Employees_Laid_Off</th>\n",
       "    </tr>\n",
       "  </thead>\n",
       "  <tbody>\n",
       "    <tr>\n",
       "      <th>0</th>\n",
       "      <td>Vedantu</td>\n",
       "      <td>Bengaluru</td>\n",
       "      <td>Education</td>\n",
       "      <td>385.0</td>\n",
       "      <td>2022-12-07</td>\n",
       "      <td>292.0</td>\n",
       "      <td>Series E</td>\n",
       "      <td>2022-12-07 16:28:02</td>\n",
       "      <td>India</td>\n",
       "      <td>NaN</td>\n",
       "      <td>Unknown</td>\n",
       "    </tr>\n",
       "    <tr>\n",
       "      <th>1</th>\n",
       "      <td>Loft</td>\n",
       "      <td>Sao Paulo</td>\n",
       "      <td>Real Estate</td>\n",
       "      <td>312.0</td>\n",
       "      <td>2022-12-07</td>\n",
       "      <td>788.0</td>\n",
       "      <td>Unknown</td>\n",
       "      <td>2022-12-08 06:26:02</td>\n",
       "      <td>Brazil</td>\n",
       "      <td>0.12</td>\n",
       "      <td>Unknown</td>\n",
       "    </tr>\n",
       "    <tr>\n",
       "      <th>2</th>\n",
       "      <td>Plaid</td>\n",
       "      <td>SF Bay Area</td>\n",
       "      <td>Finance</td>\n",
       "      <td>260.0</td>\n",
       "      <td>2022-12-07</td>\n",
       "      <td>734.0</td>\n",
       "      <td>Series D</td>\n",
       "      <td>2022-12-07 16:22:04</td>\n",
       "      <td>United States</td>\n",
       "      <td>0.20</td>\n",
       "      <td>https://docs.google.com/spreadsheets/d/1Tqw-Iu...</td>\n",
       "    </tr>\n",
       "    <tr>\n",
       "      <th>3</th>\n",
       "      <td>Motive</td>\n",
       "      <td>SF Bay Area</td>\n",
       "      <td>Transportation</td>\n",
       "      <td>237.0</td>\n",
       "      <td>2022-12-07</td>\n",
       "      <td>567.0</td>\n",
       "      <td>Series F</td>\n",
       "      <td>2022-12-08 06:21:12</td>\n",
       "      <td>United States</td>\n",
       "      <td>0.06</td>\n",
       "      <td>Unknown</td>\n",
       "    </tr>\n",
       "    <tr>\n",
       "      <th>4</th>\n",
       "      <td>Relativity</td>\n",
       "      <td>Chicago</td>\n",
       "      <td>Legal</td>\n",
       "      <td>150.0</td>\n",
       "      <td>2022-12-07</td>\n",
       "      <td>125.0</td>\n",
       "      <td>Private Equity</td>\n",
       "      <td>2022-12-08 06:22:20</td>\n",
       "      <td>United States</td>\n",
       "      <td>0.10</td>\n",
       "      <td>Unknown</td>\n",
       "    </tr>\n",
       "  </tbody>\n",
       "</table>\n",
       "</div>"
      ],
      "text/plain": [
       "      Company     Location        Industry  Laid_Off_Count        Date  \\\n",
       "0     Vedantu    Bengaluru       Education           385.0  2022-12-07   \n",
       "1        Loft    Sao Paulo     Real Estate           312.0  2022-12-07   \n",
       "2       Plaid  SF Bay Area         Finance           260.0  2022-12-07   \n",
       "3      Motive  SF Bay Area  Transportation           237.0  2022-12-07   \n",
       "4  Relativity      Chicago           Legal           150.0  2022-12-07   \n",
       "\n",
       "   Funds_Raised           Stage           Date_Added        Country  \\\n",
       "0         292.0        Series E  2022-12-07 16:28:02          India   \n",
       "1         788.0         Unknown  2022-12-08 06:26:02         Brazil   \n",
       "2         734.0        Series D  2022-12-07 16:22:04  United States   \n",
       "3         567.0        Series F  2022-12-08 06:21:12  United States   \n",
       "4         125.0  Private Equity  2022-12-08 06:22:20  United States   \n",
       "\n",
       "   Percentage                         List_of_Employees_Laid_Off  \n",
       "0         NaN                                            Unknown  \n",
       "1        0.12                                            Unknown  \n",
       "2        0.20  https://docs.google.com/spreadsheets/d/1Tqw-Iu...  \n",
       "3        0.06                                            Unknown  \n",
       "4        0.10                                            Unknown  "
      ]
     },
     "execution_count": 28,
     "metadata": {},
     "output_type": "execute_result"
    }
   ],
   "source": [
    "df.dropna(inplace = False)\n",
    "df.head()"
   ]
  },
  {
   "cell_type": "code",
   "execution_count": 29,
   "id": "36f5e61d",
   "metadata": {},
   "outputs": [
    {
     "name": "stdout",
     "output_type": "stream",
     "text": [
      "(1757, 11)\n"
     ]
    }
   ],
   "source": [
    "dfz = df.copy()\n",
    "print(dfz.shape)"
   ]
  },
  {
   "cell_type": "code",
   "execution_count": 30,
   "id": "d9f80e6a",
   "metadata": {
    "scrolled": false
   },
   "outputs": [
    {
     "data": {
      "text/html": [
       "<div>\n",
       "<style scoped>\n",
       "    .dataframe tbody tr th:only-of-type {\n",
       "        vertical-align: middle;\n",
       "    }\n",
       "\n",
       "    .dataframe tbody tr th {\n",
       "        vertical-align: top;\n",
       "    }\n",
       "\n",
       "    .dataframe thead th {\n",
       "        text-align: right;\n",
       "    }\n",
       "</style>\n",
       "<table border=\"1\" class=\"dataframe\">\n",
       "  <thead>\n",
       "    <tr style=\"text-align: right;\">\n",
       "      <th></th>\n",
       "      <th>Company</th>\n",
       "      <th>Location</th>\n",
       "      <th>Industry</th>\n",
       "      <th>Laid_Off_Count</th>\n",
       "      <th>Date</th>\n",
       "      <th>Funds_Raised</th>\n",
       "      <th>Stage</th>\n",
       "      <th>Date_Added</th>\n",
       "      <th>Country</th>\n",
       "      <th>Percentage</th>\n",
       "      <th>List_of_Employees_Laid_Off</th>\n",
       "      <th>zscore_Laid_Off_Count</th>\n",
       "    </tr>\n",
       "  </thead>\n",
       "  <tbody>\n",
       "    <tr>\n",
       "      <th>0</th>\n",
       "      <td>Vedantu</td>\n",
       "      <td>Bengaluru</td>\n",
       "      <td>Education</td>\n",
       "      <td>385.0</td>\n",
       "      <td>2022-12-07</td>\n",
       "      <td>292.0</td>\n",
       "      <td>Series E</td>\n",
       "      <td>2022-12-07 16:28:02</td>\n",
       "      <td>India</td>\n",
       "      <td>NaN</td>\n",
       "      <td>Unknown</td>\n",
       "      <td>NaN</td>\n",
       "    </tr>\n",
       "    <tr>\n",
       "      <th>1</th>\n",
       "      <td>Loft</td>\n",
       "      <td>Sao Paulo</td>\n",
       "      <td>Real Estate</td>\n",
       "      <td>312.0</td>\n",
       "      <td>2022-12-07</td>\n",
       "      <td>788.0</td>\n",
       "      <td>Unknown</td>\n",
       "      <td>2022-12-08 06:26:02</td>\n",
       "      <td>Brazil</td>\n",
       "      <td>0.12</td>\n",
       "      <td>Unknown</td>\n",
       "      <td>NaN</td>\n",
       "    </tr>\n",
       "    <tr>\n",
       "      <th>2</th>\n",
       "      <td>Plaid</td>\n",
       "      <td>SF Bay Area</td>\n",
       "      <td>Finance</td>\n",
       "      <td>260.0</td>\n",
       "      <td>2022-12-07</td>\n",
       "      <td>734.0</td>\n",
       "      <td>Series D</td>\n",
       "      <td>2022-12-07 16:22:04</td>\n",
       "      <td>United States</td>\n",
       "      <td>0.20</td>\n",
       "      <td>https://docs.google.com/spreadsheets/d/1Tqw-Iu...</td>\n",
       "      <td>NaN</td>\n",
       "    </tr>\n",
       "    <tr>\n",
       "      <th>3</th>\n",
       "      <td>Motive</td>\n",
       "      <td>SF Bay Area</td>\n",
       "      <td>Transportation</td>\n",
       "      <td>237.0</td>\n",
       "      <td>2022-12-07</td>\n",
       "      <td>567.0</td>\n",
       "      <td>Series F</td>\n",
       "      <td>2022-12-08 06:21:12</td>\n",
       "      <td>United States</td>\n",
       "      <td>0.06</td>\n",
       "      <td>Unknown</td>\n",
       "      <td>NaN</td>\n",
       "    </tr>\n",
       "    <tr>\n",
       "      <th>4</th>\n",
       "      <td>Relativity</td>\n",
       "      <td>Chicago</td>\n",
       "      <td>Legal</td>\n",
       "      <td>150.0</td>\n",
       "      <td>2022-12-07</td>\n",
       "      <td>125.0</td>\n",
       "      <td>Private Equity</td>\n",
       "      <td>2022-12-08 06:22:20</td>\n",
       "      <td>United States</td>\n",
       "      <td>0.10</td>\n",
       "      <td>Unknown</td>\n",
       "      <td>NaN</td>\n",
       "    </tr>\n",
       "  </tbody>\n",
       "</table>\n",
       "</div>"
      ],
      "text/plain": [
       "      Company     Location        Industry  Laid_Off_Count        Date  \\\n",
       "0     Vedantu    Bengaluru       Education           385.0  2022-12-07   \n",
       "1        Loft    Sao Paulo     Real Estate           312.0  2022-12-07   \n",
       "2       Plaid  SF Bay Area         Finance           260.0  2022-12-07   \n",
       "3      Motive  SF Bay Area  Transportation           237.0  2022-12-07   \n",
       "4  Relativity      Chicago           Legal           150.0  2022-12-07   \n",
       "\n",
       "   Funds_Raised           Stage           Date_Added        Country  \\\n",
       "0         292.0        Series E  2022-12-07 16:28:02          India   \n",
       "1         788.0         Unknown  2022-12-08 06:26:02         Brazil   \n",
       "2         734.0        Series D  2022-12-07 16:22:04  United States   \n",
       "3         567.0        Series F  2022-12-08 06:21:12  United States   \n",
       "4         125.0  Private Equity  2022-12-08 06:22:20  United States   \n",
       "\n",
       "   Percentage                         List_of_Employees_Laid_Off  \\\n",
       "0         NaN                                            Unknown   \n",
       "1        0.12                                            Unknown   \n",
       "2        0.20  https://docs.google.com/spreadsheets/d/1Tqw-Iu...   \n",
       "3        0.06                                            Unknown   \n",
       "4        0.10                                            Unknown   \n",
       "\n",
       "   zscore_Laid_Off_Count  \n",
       "0                    NaN  \n",
       "1                    NaN  \n",
       "2                    NaN  \n",
       "3                    NaN  \n",
       "4                    NaN  "
      ]
     },
     "execution_count": 30,
     "metadata": {},
     "output_type": "execute_result"
    }
   ],
   "source": [
    "dfz[\"zscore_Laid_Off_Count\"] = np.abs(stats.zscore(dfz[\"Laid_Off_Count\"]))\n",
    "dfz.head()"
   ]
  },
  {
   "cell_type": "code",
   "execution_count": 31,
   "id": "1f41e379",
   "metadata": {},
   "outputs": [
    {
     "name": "stdout",
     "output_type": "stream",
     "text": [
      "Int64Index([], dtype='int64')\n"
     ]
    }
   ],
   "source": [
    "z_outliers = dfz.loc[dfz[\"zscore_Laid_Off_Count\"] > 3].index\n",
    "print(z_outliers)"
   ]
  },
  {
   "cell_type": "code",
   "execution_count": 32,
   "id": "6c372d59",
   "metadata": {},
   "outputs": [
    {
     "data": {
      "text/plain": [
       "Company                         0\n",
       "Location                        0\n",
       "Industry                        0\n",
       "Laid_Off_Count                520\n",
       "Date                            1\n",
       "Funds_Raised                  130\n",
       "Stage                           0\n",
       "Date_Added                      0\n",
       "Country                         0\n",
       "Percentage                    576\n",
       "List_of_Employees_Laid_Off      0\n",
       "dtype: int64"
      ]
     },
     "execution_count": 32,
     "metadata": {},
     "output_type": "execute_result"
    }
   ],
   "source": [
    "df.isnull().sum()"
   ]
  },
  {
   "cell_type": "code",
   "execution_count": 33,
   "id": "b1febe8e",
   "metadata": {},
   "outputs": [
    {
     "name": "stdout",
     "output_type": "stream",
     "text": [
      "The average score is: 0.27500635055038136\n"
     ]
    }
   ],
   "source": [
    "print(\"The average score is:\", df[\"Percentage\"].mean())"
   ]
  },
  {
   "cell_type": "code",
   "execution_count": 34,
   "id": "e2fef525",
   "metadata": {},
   "outputs": [],
   "source": [
    "df[\"Percentage\"].fillna(df[\"Percentage\"].mean(), inplace = True)"
   ]
  },
  {
   "cell_type": "code",
   "execution_count": 35,
   "id": "f16500cd",
   "metadata": {},
   "outputs": [
    {
     "name": "stdout",
     "output_type": "stream",
     "text": [
      "The average score is: 865.1698189920098\n"
     ]
    }
   ],
   "source": [
    "print(\"The average score is:\", df[\"Funds_Raised\"].mean())"
   ]
  },
  {
   "cell_type": "code",
   "execution_count": 36,
   "id": "34d2e83c",
   "metadata": {},
   "outputs": [
    {
     "name": "stdout",
     "output_type": "stream",
     "text": [
      "The average score is: 196.75586095392077\n"
     ]
    }
   ],
   "source": [
    " print(\"The average score is:\", df[\"Laid_Off_Count\"].mean())"
   ]
  },
  {
   "cell_type": "code",
   "execution_count": 37,
   "id": "22186bdb",
   "metadata": {},
   "outputs": [],
   "source": [
    "df[\"Funds_Raised\"].fillna(df[\"Funds_Raised\"].mean(), inplace = True)"
   ]
  },
  {
   "cell_type": "code",
   "execution_count": 38,
   "id": "40177703",
   "metadata": {},
   "outputs": [],
   "source": [
    "df[\"Laid_Off_Count\"].fillna(df[\"Laid_Off_Count\"].mean(), inplace = True)"
   ]
  },
  {
   "cell_type": "code",
   "execution_count": 39,
   "id": "8b3ce83e",
   "metadata": {},
   "outputs": [
    {
     "data": {
      "text/html": [
       "<div>\n",
       "<style scoped>\n",
       "    .dataframe tbody tr th:only-of-type {\n",
       "        vertical-align: middle;\n",
       "    }\n",
       "\n",
       "    .dataframe tbody tr th {\n",
       "        vertical-align: top;\n",
       "    }\n",
       "\n",
       "    .dataframe thead th {\n",
       "        text-align: right;\n",
       "    }\n",
       "</style>\n",
       "<table border=\"1\" class=\"dataframe\">\n",
       "  <thead>\n",
       "    <tr style=\"text-align: right;\">\n",
       "      <th></th>\n",
       "      <th>Company</th>\n",
       "      <th>Location</th>\n",
       "      <th>Industry</th>\n",
       "      <th>Laid_Off_Count</th>\n",
       "      <th>Date</th>\n",
       "      <th>Funds_Raised</th>\n",
       "      <th>Stage</th>\n",
       "      <th>Date_Added</th>\n",
       "      <th>Country</th>\n",
       "      <th>Percentage</th>\n",
       "      <th>List_of_Employees_Laid_Off</th>\n",
       "    </tr>\n",
       "  </thead>\n",
       "  <tbody>\n",
       "    <tr>\n",
       "      <th>0</th>\n",
       "      <td>Vedantu</td>\n",
       "      <td>Bengaluru</td>\n",
       "      <td>Education</td>\n",
       "      <td>385.0</td>\n",
       "      <td>2022-12-07</td>\n",
       "      <td>292.0</td>\n",
       "      <td>Series E</td>\n",
       "      <td>2022-12-07 16:28:02</td>\n",
       "      <td>India</td>\n",
       "      <td>0.275006</td>\n",
       "      <td>Unknown</td>\n",
       "    </tr>\n",
       "    <tr>\n",
       "      <th>1</th>\n",
       "      <td>Loft</td>\n",
       "      <td>Sao Paulo</td>\n",
       "      <td>Real Estate</td>\n",
       "      <td>312.0</td>\n",
       "      <td>2022-12-07</td>\n",
       "      <td>788.0</td>\n",
       "      <td>Unknown</td>\n",
       "      <td>2022-12-08 06:26:02</td>\n",
       "      <td>Brazil</td>\n",
       "      <td>0.120000</td>\n",
       "      <td>Unknown</td>\n",
       "    </tr>\n",
       "    <tr>\n",
       "      <th>2</th>\n",
       "      <td>Plaid</td>\n",
       "      <td>SF Bay Area</td>\n",
       "      <td>Finance</td>\n",
       "      <td>260.0</td>\n",
       "      <td>2022-12-07</td>\n",
       "      <td>734.0</td>\n",
       "      <td>Series D</td>\n",
       "      <td>2022-12-07 16:22:04</td>\n",
       "      <td>United States</td>\n",
       "      <td>0.200000</td>\n",
       "      <td>https://docs.google.com/spreadsheets/d/1Tqw-Iu...</td>\n",
       "    </tr>\n",
       "    <tr>\n",
       "      <th>3</th>\n",
       "      <td>Motive</td>\n",
       "      <td>SF Bay Area</td>\n",
       "      <td>Transportation</td>\n",
       "      <td>237.0</td>\n",
       "      <td>2022-12-07</td>\n",
       "      <td>567.0</td>\n",
       "      <td>Series F</td>\n",
       "      <td>2022-12-08 06:21:12</td>\n",
       "      <td>United States</td>\n",
       "      <td>0.060000</td>\n",
       "      <td>Unknown</td>\n",
       "    </tr>\n",
       "    <tr>\n",
       "      <th>4</th>\n",
       "      <td>Relativity</td>\n",
       "      <td>Chicago</td>\n",
       "      <td>Legal</td>\n",
       "      <td>150.0</td>\n",
       "      <td>2022-12-07</td>\n",
       "      <td>125.0</td>\n",
       "      <td>Private Equity</td>\n",
       "      <td>2022-12-08 06:22:20</td>\n",
       "      <td>United States</td>\n",
       "      <td>0.100000</td>\n",
       "      <td>Unknown</td>\n",
       "    </tr>\n",
       "  </tbody>\n",
       "</table>\n",
       "</div>"
      ],
      "text/plain": [
       "      Company     Location        Industry  Laid_Off_Count        Date  \\\n",
       "0     Vedantu    Bengaluru       Education           385.0  2022-12-07   \n",
       "1        Loft    Sao Paulo     Real Estate           312.0  2022-12-07   \n",
       "2       Plaid  SF Bay Area         Finance           260.0  2022-12-07   \n",
       "3      Motive  SF Bay Area  Transportation           237.0  2022-12-07   \n",
       "4  Relativity      Chicago           Legal           150.0  2022-12-07   \n",
       "\n",
       "   Funds_Raised           Stage           Date_Added        Country  \\\n",
       "0         292.0        Series E  2022-12-07 16:28:02          India   \n",
       "1         788.0         Unknown  2022-12-08 06:26:02         Brazil   \n",
       "2         734.0        Series D  2022-12-07 16:22:04  United States   \n",
       "3         567.0        Series F  2022-12-08 06:21:12  United States   \n",
       "4         125.0  Private Equity  2022-12-08 06:22:20  United States   \n",
       "\n",
       "   Percentage                         List_of_Employees_Laid_Off  \n",
       "0    0.275006                                            Unknown  \n",
       "1    0.120000                                            Unknown  \n",
       "2    0.200000  https://docs.google.com/spreadsheets/d/1Tqw-Iu...  \n",
       "3    0.060000                                            Unknown  \n",
       "4    0.100000                                            Unknown  "
      ]
     },
     "execution_count": 39,
     "metadata": {},
     "output_type": "execute_result"
    }
   ],
   "source": [
    "df.head()"
   ]
  },
  {
   "cell_type": "code",
   "execution_count": 40,
   "id": "eaf64e5f",
   "metadata": {},
   "outputs": [
    {
     "data": {
      "text/plain": [
       "Company                       0\n",
       "Location                      0\n",
       "Industry                      0\n",
       "Laid_Off_Count                0\n",
       "Date                          1\n",
       "Funds_Raised                  0\n",
       "Stage                         0\n",
       "Date_Added                    0\n",
       "Country                       0\n",
       "Percentage                    0\n",
       "List_of_Employees_Laid_Off    0\n",
       "dtype: int64"
      ]
     },
     "execution_count": 40,
     "metadata": {},
     "output_type": "execute_result"
    }
   ],
   "source": [
    "df.isnull().sum()"
   ]
  },
  {
   "cell_type": "code",
   "execution_count": 41,
   "id": "fc9ef936",
   "metadata": {},
   "outputs": [],
   "source": [
    "df.drop(columns = \"Date\", inplace = True)"
   ]
  },
  {
   "cell_type": "code",
   "execution_count": 42,
   "id": "c0b04c40",
   "metadata": {
    "scrolled": true
   },
   "outputs": [
    {
     "data": {
      "text/html": [
       "<div>\n",
       "<style scoped>\n",
       "    .dataframe tbody tr th:only-of-type {\n",
       "        vertical-align: middle;\n",
       "    }\n",
       "\n",
       "    .dataframe tbody tr th {\n",
       "        vertical-align: top;\n",
       "    }\n",
       "\n",
       "    .dataframe thead th {\n",
       "        text-align: right;\n",
       "    }\n",
       "</style>\n",
       "<table border=\"1\" class=\"dataframe\">\n",
       "  <thead>\n",
       "    <tr style=\"text-align: right;\">\n",
       "      <th></th>\n",
       "      <th>Company</th>\n",
       "      <th>Location</th>\n",
       "      <th>Industry</th>\n",
       "      <th>Laid_Off_Count</th>\n",
       "      <th>Funds_Raised</th>\n",
       "      <th>Stage</th>\n",
       "      <th>Date_Added</th>\n",
       "      <th>Country</th>\n",
       "      <th>Percentage</th>\n",
       "      <th>List_of_Employees_Laid_Off</th>\n",
       "    </tr>\n",
       "  </thead>\n",
       "  <tbody>\n",
       "    <tr>\n",
       "      <th>0</th>\n",
       "      <td>Vedantu</td>\n",
       "      <td>Bengaluru</td>\n",
       "      <td>Education</td>\n",
       "      <td>385.0</td>\n",
       "      <td>292.0</td>\n",
       "      <td>Series E</td>\n",
       "      <td>2022-12-07 16:28:02</td>\n",
       "      <td>India</td>\n",
       "      <td>0.275006</td>\n",
       "      <td>Unknown</td>\n",
       "    </tr>\n",
       "    <tr>\n",
       "      <th>1</th>\n",
       "      <td>Loft</td>\n",
       "      <td>Sao Paulo</td>\n",
       "      <td>Real Estate</td>\n",
       "      <td>312.0</td>\n",
       "      <td>788.0</td>\n",
       "      <td>Unknown</td>\n",
       "      <td>2022-12-08 06:26:02</td>\n",
       "      <td>Brazil</td>\n",
       "      <td>0.120000</td>\n",
       "      <td>Unknown</td>\n",
       "    </tr>\n",
       "    <tr>\n",
       "      <th>2</th>\n",
       "      <td>Plaid</td>\n",
       "      <td>SF Bay Area</td>\n",
       "      <td>Finance</td>\n",
       "      <td>260.0</td>\n",
       "      <td>734.0</td>\n",
       "      <td>Series D</td>\n",
       "      <td>2022-12-07 16:22:04</td>\n",
       "      <td>United States</td>\n",
       "      <td>0.200000</td>\n",
       "      <td>https://docs.google.com/spreadsheets/d/1Tqw-Iu...</td>\n",
       "    </tr>\n",
       "    <tr>\n",
       "      <th>3</th>\n",
       "      <td>Motive</td>\n",
       "      <td>SF Bay Area</td>\n",
       "      <td>Transportation</td>\n",
       "      <td>237.0</td>\n",
       "      <td>567.0</td>\n",
       "      <td>Series F</td>\n",
       "      <td>2022-12-08 06:21:12</td>\n",
       "      <td>United States</td>\n",
       "      <td>0.060000</td>\n",
       "      <td>Unknown</td>\n",
       "    </tr>\n",
       "    <tr>\n",
       "      <th>4</th>\n",
       "      <td>Relativity</td>\n",
       "      <td>Chicago</td>\n",
       "      <td>Legal</td>\n",
       "      <td>150.0</td>\n",
       "      <td>125.0</td>\n",
       "      <td>Private Equity</td>\n",
       "      <td>2022-12-08 06:22:20</td>\n",
       "      <td>United States</td>\n",
       "      <td>0.100000</td>\n",
       "      <td>Unknown</td>\n",
       "    </tr>\n",
       "  </tbody>\n",
       "</table>\n",
       "</div>"
      ],
      "text/plain": [
       "      Company     Location        Industry  Laid_Off_Count  Funds_Raised  \\\n",
       "0     Vedantu    Bengaluru       Education           385.0         292.0   \n",
       "1        Loft    Sao Paulo     Real Estate           312.0         788.0   \n",
       "2       Plaid  SF Bay Area         Finance           260.0         734.0   \n",
       "3      Motive  SF Bay Area  Transportation           237.0         567.0   \n",
       "4  Relativity      Chicago           Legal           150.0         125.0   \n",
       "\n",
       "            Stage           Date_Added        Country  Percentage  \\\n",
       "0        Series E  2022-12-07 16:28:02          India    0.275006   \n",
       "1         Unknown  2022-12-08 06:26:02         Brazil    0.120000   \n",
       "2        Series D  2022-12-07 16:22:04  United States    0.200000   \n",
       "3        Series F  2022-12-08 06:21:12  United States    0.060000   \n",
       "4  Private Equity  2022-12-08 06:22:20  United States    0.100000   \n",
       "\n",
       "                          List_of_Employees_Laid_Off  \n",
       "0                                            Unknown  \n",
       "1                                            Unknown  \n",
       "2  https://docs.google.com/spreadsheets/d/1Tqw-Iu...  \n",
       "3                                            Unknown  \n",
       "4                                            Unknown  "
      ]
     },
     "execution_count": 42,
     "metadata": {},
     "output_type": "execute_result"
    }
   ],
   "source": [
    "df.head()"
   ]
  },
  {
   "cell_type": "code",
   "execution_count": 52,
   "id": "f925b0fa",
   "metadata": {},
   "outputs": [],
   "source": [
    "bins = [100, 200, 300, 400]   #Created a new column binning the Age data \n",
    "bin_labels = [\"Low_Laid_Off_Count\", \"Medium_Laid_Off Count\", \"High_Laid_Off_Count\"]\n",
    "df[\"Laid_Off_Count 2\"] = pd.cut(df['Laid_Off_Count'], bins, labels = bin_labels)"
   ]
  },
  {
   "cell_type": "code",
   "execution_count": 53,
   "id": "73b4427c",
   "metadata": {},
   "outputs": [
    {
     "data": {
      "text/html": [
       "<div>\n",
       "<style scoped>\n",
       "    .dataframe tbody tr th:only-of-type {\n",
       "        vertical-align: middle;\n",
       "    }\n",
       "\n",
       "    .dataframe tbody tr th {\n",
       "        vertical-align: top;\n",
       "    }\n",
       "\n",
       "    .dataframe thead th {\n",
       "        text-align: right;\n",
       "    }\n",
       "</style>\n",
       "<table border=\"1\" class=\"dataframe\">\n",
       "  <thead>\n",
       "    <tr style=\"text-align: right;\">\n",
       "      <th></th>\n",
       "      <th>Company</th>\n",
       "      <th>Location</th>\n",
       "      <th>Industry</th>\n",
       "      <th>Laid_Off_Count</th>\n",
       "      <th>Funds_Raised</th>\n",
       "      <th>Stage</th>\n",
       "      <th>Date_Added</th>\n",
       "      <th>Country</th>\n",
       "      <th>Percentage</th>\n",
       "      <th>List_of_Employees_Laid_Off</th>\n",
       "      <th>Laid_Off_Count 2</th>\n",
       "    </tr>\n",
       "  </thead>\n",
       "  <tbody>\n",
       "    <tr>\n",
       "      <th>0</th>\n",
       "      <td>Vedantu</td>\n",
       "      <td>Bengaluru</td>\n",
       "      <td>Education</td>\n",
       "      <td>385.0</td>\n",
       "      <td>292.0</td>\n",
       "      <td>Series E</td>\n",
       "      <td>2022-12-07 16:28:02</td>\n",
       "      <td>India</td>\n",
       "      <td>0.275006</td>\n",
       "      <td>Unknown</td>\n",
       "      <td>High_Laid_Off_Count</td>\n",
       "    </tr>\n",
       "    <tr>\n",
       "      <th>1</th>\n",
       "      <td>Loft</td>\n",
       "      <td>Sao Paulo</td>\n",
       "      <td>Real Estate</td>\n",
       "      <td>312.0</td>\n",
       "      <td>788.0</td>\n",
       "      <td>Unknown</td>\n",
       "      <td>2022-12-08 06:26:02</td>\n",
       "      <td>Brazil</td>\n",
       "      <td>0.120000</td>\n",
       "      <td>Unknown</td>\n",
       "      <td>High_Laid_Off_Count</td>\n",
       "    </tr>\n",
       "    <tr>\n",
       "      <th>2</th>\n",
       "      <td>Plaid</td>\n",
       "      <td>SF Bay Area</td>\n",
       "      <td>Finance</td>\n",
       "      <td>260.0</td>\n",
       "      <td>734.0</td>\n",
       "      <td>Series D</td>\n",
       "      <td>2022-12-07 16:22:04</td>\n",
       "      <td>United States</td>\n",
       "      <td>0.200000</td>\n",
       "      <td>https://docs.google.com/spreadsheets/d/1Tqw-Iu...</td>\n",
       "      <td>Medium_Laid_Off Count</td>\n",
       "    </tr>\n",
       "    <tr>\n",
       "      <th>3</th>\n",
       "      <td>Motive</td>\n",
       "      <td>SF Bay Area</td>\n",
       "      <td>Transportation</td>\n",
       "      <td>237.0</td>\n",
       "      <td>567.0</td>\n",
       "      <td>Series F</td>\n",
       "      <td>2022-12-08 06:21:12</td>\n",
       "      <td>United States</td>\n",
       "      <td>0.060000</td>\n",
       "      <td>Unknown</td>\n",
       "      <td>Medium_Laid_Off Count</td>\n",
       "    </tr>\n",
       "    <tr>\n",
       "      <th>4</th>\n",
       "      <td>Relativity</td>\n",
       "      <td>Chicago</td>\n",
       "      <td>Legal</td>\n",
       "      <td>150.0</td>\n",
       "      <td>125.0</td>\n",
       "      <td>Private Equity</td>\n",
       "      <td>2022-12-08 06:22:20</td>\n",
       "      <td>United States</td>\n",
       "      <td>0.100000</td>\n",
       "      <td>Unknown</td>\n",
       "      <td>Low_Laid_Off_Count</td>\n",
       "    </tr>\n",
       "  </tbody>\n",
       "</table>\n",
       "</div>"
      ],
      "text/plain": [
       "      Company     Location        Industry  Laid_Off_Count  Funds_Raised  \\\n",
       "0     Vedantu    Bengaluru       Education           385.0         292.0   \n",
       "1        Loft    Sao Paulo     Real Estate           312.0         788.0   \n",
       "2       Plaid  SF Bay Area         Finance           260.0         734.0   \n",
       "3      Motive  SF Bay Area  Transportation           237.0         567.0   \n",
       "4  Relativity      Chicago           Legal           150.0         125.0   \n",
       "\n",
       "            Stage           Date_Added        Country  Percentage  \\\n",
       "0        Series E  2022-12-07 16:28:02          India    0.275006   \n",
       "1         Unknown  2022-12-08 06:26:02         Brazil    0.120000   \n",
       "2        Series D  2022-12-07 16:22:04  United States    0.200000   \n",
       "3        Series F  2022-12-08 06:21:12  United States    0.060000   \n",
       "4  Private Equity  2022-12-08 06:22:20  United States    0.100000   \n",
       "\n",
       "                          List_of_Employees_Laid_Off       Laid_Off_Count 2  \n",
       "0                                            Unknown    High_Laid_Off_Count  \n",
       "1                                            Unknown    High_Laid_Off_Count  \n",
       "2  https://docs.google.com/spreadsheets/d/1Tqw-Iu...  Medium_Laid_Off Count  \n",
       "3                                            Unknown  Medium_Laid_Off Count  \n",
       "4                                            Unknown     Low_Laid_Off_Count  "
      ]
     },
     "execution_count": 53,
     "metadata": {},
     "output_type": "execute_result"
    }
   ],
   "source": [
    "df.head()"
   ]
  },
  {
   "cell_type": "code",
   "execution_count": 59,
   "id": "8d4dad52",
   "metadata": {},
   "outputs": [],
   "source": [
    "dfz[\"zscore_Funds_Raised\"] = np.abs(stats.zscore(dfz[\"Funds_Raised\"])"
   ]
  },
  {
   "cell_type": "code",
   "execution_count": 62,
   "id": "ef667c5e",
   "metadata": {},
   "outputs": [
    {
     "name": "stdout",
     "output_type": "stream",
     "text": [
      "Int64Index([], dtype='int64')\n"
     ]
    }
   ],
   "source": [
    "z_outliers = dfz.loc[dfz[\"zscore_Funds_Raised\"] > 3].index\n",
    "print(z_outliers)"
   ]
  },
  {
   "cell_type": "code",
   "execution_count": 68,
   "id": "aa52daff",
   "metadata": {},
   "outputs": [],
   "source": [
    "dfz[\"zscore_Percentage\"] = np.abs(stats.zscore(dfz[\"Percentage\"]))"
   ]
  },
  {
   "cell_type": "code",
   "execution_count": 66,
   "id": "61a2f628",
   "metadata": {},
   "outputs": [
    {
     "name": "stdout",
     "output_type": "stream",
     "text": [
      "Int64Index([], dtype='int64')\n"
     ]
    }
   ],
   "source": [
    "z_outliers = dfz.loc[dfz[\"zscore_Percentage\"] > 3].index\n",
    "print(z_outliers)"
   ]
  },
  {
   "cell_type": "code",
   "execution_count": 86,
   "id": "a926dbd0",
   "metadata": {},
   "outputs": [
    {
     "data": {
      "text/plain": [
       "Country\n",
       "Argentina                 64.600000\n",
       "Australia                122.539350\n",
       "Austria                  235.000000\n",
       "Bahrain                  196.755861\n",
       "Belgium                  196.755861\n",
       "Brazil                   160.377806\n",
       "Bulgaria                 120.000000\n",
       "Canada                    95.627461\n",
       "Chile                     30.000000\n",
       "China                    492.161755\n",
       "Colombia                 141.170574\n",
       "Czech Republic           196.755861\n",
       "Denmark                   60.000000\n",
       "Egypt                    196.755861\n",
       "Estonia                   66.750000\n",
       "Finland                  250.000000\n",
       "France                   196.755861\n",
       "Germany                  126.678304\n",
       "Greece                   196.755861\n",
       "Hong Kong                224.702344\n",
       "Hungary                  196.755861\n",
       "India                    303.155185\n",
       "Indonesia                234.693267\n",
       "Ireland                  106.688965\n",
       "Israel                    90.882276\n",
       "Kenya                    123.751954\n",
       "Lithuania                 60.000000\n",
       "Luxembourg               146.170574\n",
       "Malaysia                  98.918620\n",
       "Mexico                   116.688965\n",
       "Myanmar                  200.000000\n",
       "Netherlands             1053.351172\n",
       "New Zealand              120.877930\n",
       "Nigeria                  135.158448\n",
       "Norway                   133.377930\n",
       "Pakistan                 196.755861\n",
       "Peru                     196.755861\n",
       "Poland                    25.000000\n",
       "Portugal                  57.500000\n",
       "Romania                   70.000000\n",
       "Russia                   400.000000\n",
       "Senegal                  300.000000\n",
       "Seychelles               156.170574\n",
       "Singapore                280.391060\n",
       "South Africa             196.755861\n",
       "Spain                    196.755861\n",
       "Sweden                   164.766085\n",
       "Switzerland              129.377930\n",
       "Thailand                  55.000000\n",
       "Turkey                   196.755861\n",
       "United Arab Emirates     231.418620\n",
       "United Kingdom           158.002131\n",
       "United States            201.375897\n",
       "Uruguay                  196.755861\n",
       "Vietnam                  196.755861\n",
       "Name: Laid_Off_Count, dtype: float64"
      ]
     },
     "execution_count": 86,
     "metadata": {},
     "output_type": "execute_result"
    }
   ],
   "source": [
    "df[\"Laid_Off_Count\"].groupby(df[\"Country\"]).mean()"
   ]
  },
  {
   "cell_type": "code",
   "execution_count": 87,
   "id": "16c23c0e",
   "metadata": {},
   "outputs": [
    {
     "data": {
      "text/plain": [
       "Industry\n",
       "Aerospace         175.751954\n",
       "Construction      339.251353\n",
       "Consumer          387.251395\n",
       "Crypto            190.594291\n",
       "Data              118.473080\n",
       "Education         198.331641\n",
       "Energy            162.343573\n",
       "Finance           145.913626\n",
       "Fitness           380.075811\n",
       "Food              237.604985\n",
       "HR                 79.688965\n",
       "Healthcare        154.677152\n",
       "Infrastructure    244.392292\n",
       "Legal             102.094483\n",
       "Logistics         138.192900\n",
       "Marketing         107.136614\n",
       "Media             108.258584\n",
       "Other             167.906401\n",
       "Product            77.621407\n",
       "Real Estate       227.957419\n",
       "Recruiting        134.242118\n",
       "Retail            250.834038\n",
       "Sales             169.060469\n",
       "Security          129.916524\n",
       "Support           115.924880\n",
       "Transportation    315.617454\n",
       "Travel            309.909054\n",
       "Unknown           115.251954\n",
       "Name: Laid_Off_Count, dtype: float64"
      ]
     },
     "execution_count": 87,
     "metadata": {},
     "output_type": "execute_result"
    }
   ],
   "source": [
    "df[\"Laid_Off_Count\"].groupby(df[\"Industry\"]).mean()"
   ]
  },
  {
   "cell_type": "code",
   "execution_count": 88,
   "id": "501e719a",
   "metadata": {},
   "outputs": [
    {
     "data": {
      "text/plain": [
       "Location\n",
       "Ahmedabad     500.000000\n",
       "Amsterdam    1296.688965\n",
       "Ann Arbor      40.000000\n",
       "Athens        196.755861\n",
       "Atlanta       188.681083\n",
       "                ...     \n",
       "Waterloo      102.918620\n",
       "Winnipeg      350.000000\n",
       "Yangon        200.000000\n",
       "Zug           196.755861\n",
       "Zurich         62.000000\n",
       "Name: Laid_Off_Count, Length: 162, dtype: float64"
      ]
     },
     "execution_count": 88,
     "metadata": {},
     "output_type": "execute_result"
    }
   ],
   "source": [
    "df[\"Laid_Off_Count\"].groupby(df[\"Location\"]).mean()"
   ]
  },
  {
   "cell_type": "code",
   "execution_count": 89,
   "id": "dca10ba5",
   "metadata": {},
   "outputs": [],
   "source": [
    "df.drop(columns = \"List_of_Employees_Laid_Off\", inplace = True)"
   ]
  },
  {
   "cell_type": "code",
   "execution_count": 90,
   "id": "e6e0d627",
   "metadata": {},
   "outputs": [
    {
     "data": {
      "text/html": [
       "<div>\n",
       "<style scoped>\n",
       "    .dataframe tbody tr th:only-of-type {\n",
       "        vertical-align: middle;\n",
       "    }\n",
       "\n",
       "    .dataframe tbody tr th {\n",
       "        vertical-align: top;\n",
       "    }\n",
       "\n",
       "    .dataframe thead th {\n",
       "        text-align: right;\n",
       "    }\n",
       "</style>\n",
       "<table border=\"1\" class=\"dataframe\">\n",
       "  <thead>\n",
       "    <tr style=\"text-align: right;\">\n",
       "      <th></th>\n",
       "      <th>Company</th>\n",
       "      <th>Location</th>\n",
       "      <th>Industry</th>\n",
       "      <th>Laid_Off_Count</th>\n",
       "      <th>Funds_Raised</th>\n",
       "      <th>Stage</th>\n",
       "      <th>Date_Added</th>\n",
       "      <th>Country</th>\n",
       "      <th>Percentage</th>\n",
       "      <th>Laid_Off_Count 2</th>\n",
       "    </tr>\n",
       "  </thead>\n",
       "  <tbody>\n",
       "    <tr>\n",
       "      <th>0</th>\n",
       "      <td>Vedantu</td>\n",
       "      <td>Bengaluru</td>\n",
       "      <td>Education</td>\n",
       "      <td>385.0</td>\n",
       "      <td>292.0</td>\n",
       "      <td>Series E</td>\n",
       "      <td>2022-12-07 16:28:02</td>\n",
       "      <td>India</td>\n",
       "      <td>0.275006</td>\n",
       "      <td>High_Laid_Off_Count</td>\n",
       "    </tr>\n",
       "    <tr>\n",
       "      <th>1</th>\n",
       "      <td>Loft</td>\n",
       "      <td>Sao Paulo</td>\n",
       "      <td>Real Estate</td>\n",
       "      <td>312.0</td>\n",
       "      <td>788.0</td>\n",
       "      <td>Unknown</td>\n",
       "      <td>2022-12-08 06:26:02</td>\n",
       "      <td>Brazil</td>\n",
       "      <td>0.120000</td>\n",
       "      <td>High_Laid_Off_Count</td>\n",
       "    </tr>\n",
       "    <tr>\n",
       "      <th>2</th>\n",
       "      <td>Plaid</td>\n",
       "      <td>SF Bay Area</td>\n",
       "      <td>Finance</td>\n",
       "      <td>260.0</td>\n",
       "      <td>734.0</td>\n",
       "      <td>Series D</td>\n",
       "      <td>2022-12-07 16:22:04</td>\n",
       "      <td>United States</td>\n",
       "      <td>0.200000</td>\n",
       "      <td>Medium_Laid_Off Count</td>\n",
       "    </tr>\n",
       "    <tr>\n",
       "      <th>3</th>\n",
       "      <td>Motive</td>\n",
       "      <td>SF Bay Area</td>\n",
       "      <td>Transportation</td>\n",
       "      <td>237.0</td>\n",
       "      <td>567.0</td>\n",
       "      <td>Series F</td>\n",
       "      <td>2022-12-08 06:21:12</td>\n",
       "      <td>United States</td>\n",
       "      <td>0.060000</td>\n",
       "      <td>Medium_Laid_Off Count</td>\n",
       "    </tr>\n",
       "    <tr>\n",
       "      <th>4</th>\n",
       "      <td>Relativity</td>\n",
       "      <td>Chicago</td>\n",
       "      <td>Legal</td>\n",
       "      <td>150.0</td>\n",
       "      <td>125.0</td>\n",
       "      <td>Private Equity</td>\n",
       "      <td>2022-12-08 06:22:20</td>\n",
       "      <td>United States</td>\n",
       "      <td>0.100000</td>\n",
       "      <td>Low_Laid_Off_Count</td>\n",
       "    </tr>\n",
       "  </tbody>\n",
       "</table>\n",
       "</div>"
      ],
      "text/plain": [
       "      Company     Location        Industry  Laid_Off_Count  Funds_Raised  \\\n",
       "0     Vedantu    Bengaluru       Education           385.0         292.0   \n",
       "1        Loft    Sao Paulo     Real Estate           312.0         788.0   \n",
       "2       Plaid  SF Bay Area         Finance           260.0         734.0   \n",
       "3      Motive  SF Bay Area  Transportation           237.0         567.0   \n",
       "4  Relativity      Chicago           Legal           150.0         125.0   \n",
       "\n",
       "            Stage           Date_Added        Country  Percentage  \\\n",
       "0        Series E  2022-12-07 16:28:02          India    0.275006   \n",
       "1         Unknown  2022-12-08 06:26:02         Brazil    0.120000   \n",
       "2        Series D  2022-12-07 16:22:04  United States    0.200000   \n",
       "3        Series F  2022-12-08 06:21:12  United States    0.060000   \n",
       "4  Private Equity  2022-12-08 06:22:20  United States    0.100000   \n",
       "\n",
       "        Laid_Off_Count 2  \n",
       "0    High_Laid_Off_Count  \n",
       "1    High_Laid_Off_Count  \n",
       "2  Medium_Laid_Off Count  \n",
       "3  Medium_Laid_Off Count  \n",
       "4     Low_Laid_Off_Count  "
      ]
     },
     "execution_count": 90,
     "metadata": {},
     "output_type": "execute_result"
    }
   ],
   "source": [
    "df.head()"
   ]
  },
  {
   "cell_type": "code",
   "execution_count": 91,
   "id": "1c80421a",
   "metadata": {},
   "outputs": [
    {
     "data": {
      "text/plain": [
       "Location\n",
       "Ahmedabad    0.500000\n",
       "Amsterdam    0.271252\n",
       "Ann Arbor    0.320000\n",
       "Athens       0.275006\n",
       "Atlanta      0.264646\n",
       "               ...   \n",
       "Waterloo     0.128335\n",
       "Winnipeg     0.275006\n",
       "Yangon       0.330000\n",
       "Zug          0.275006\n",
       "Zurich       0.500000\n",
       "Name: Percentage, Length: 162, dtype: float64"
      ]
     },
     "execution_count": 91,
     "metadata": {},
     "output_type": "execute_result"
    }
   ],
   "source": [
    "df[\"Percentage\"].groupby(df[\"Location\"]).mean()"
   ]
  },
  {
   "cell_type": "code",
   "execution_count": 92,
   "id": "80c7ef31",
   "metadata": {},
   "outputs": [
    {
     "data": {
      "text/plain": [
       "Industry\n",
       "Aerospace         0.468335\n",
       "Construction      0.273463\n",
       "Consumer          0.285300\n",
       "Crypto            0.287078\n",
       "Data              0.240253\n",
       "Education         0.327336\n",
       "Energy            0.247730\n",
       "Finance           0.259477\n",
       "Fitness           0.313706\n",
       "Food              0.325828\n",
       "HR                0.274094\n",
       "Healthcare        0.279357\n",
       "Infrastructure    0.300444\n",
       "Legal             0.297502\n",
       "Logistics         0.217354\n",
       "Marketing         0.228786\n",
       "Media             0.260923\n",
       "Other             0.250836\n",
       "Product           0.299201\n",
       "Real Estate       0.306438\n",
       "Recruiting        0.311252\n",
       "Retail            0.292057\n",
       "Sales             0.187143\n",
       "Security          0.207802\n",
       "Support           0.269041\n",
       "Transportation    0.237902\n",
       "Travel            0.334841\n",
       "Unknown           0.240002\n",
       "Name: Percentage, dtype: float64"
      ]
     },
     "execution_count": 92,
     "metadata": {},
     "output_type": "execute_result"
    }
   ],
   "source": [
    "df[\"Percentage\"].groupby(df[\"Industry\"]).mean()"
   ]
  },
  {
   "cell_type": "code",
   "execution_count": 93,
   "id": "13361114",
   "metadata": {},
   "outputs": [
    {
     "data": {
      "text/plain": [
       "Country\n",
       "Argentina               0.237001\n",
       "Australia               0.356472\n",
       "Austria                 0.272503\n",
       "Bahrain                 0.275006\n",
       "Belgium                 0.275006\n",
       "Brazil                  0.222638\n",
       "Bulgaria                0.100000\n",
       "Canada                  0.241690\n",
       "Chile                   0.275006\n",
       "China                   0.253641\n",
       "Colombia                0.193338\n",
       "Czech Republic          0.275006\n",
       "Denmark                 0.475003\n",
       "Egypt                   0.387503\n",
       "Estonia                 0.227503\n",
       "Finland                 0.170000\n",
       "France                  0.275006\n",
       "Germany                 0.283023\n",
       "Greece                  0.275006\n",
       "Hong Kong               0.161001\n",
       "Hungary                 0.140000\n",
       "India                   0.302957\n",
       "Indonesia               0.335954\n",
       "Ireland                 0.260003\n",
       "Israel                  0.237876\n",
       "Kenya                   0.286667\n",
       "Lithuania               0.275006\n",
       "Luxembourg              0.168335\n",
       "Malaysia                0.140000\n",
       "Mexico                  0.271252\n",
       "Myanmar                 0.330000\n",
       "Netherlands             0.272003\n",
       "New Zealand             0.275006\n",
       "Nigeria                 0.295627\n",
       "Norway                  0.197503\n",
       "Pakistan                0.536667\n",
       "Peru                    0.275006\n",
       "Poland                  0.275006\n",
       "Portugal                0.312503\n",
       "Romania                 0.275006\n",
       "Russia                  0.400000\n",
       "Senegal                 0.150000\n",
       "Seychelles              0.275002\n",
       "Singapore               0.299076\n",
       "South Africa            0.275006\n",
       "Spain                   0.275006\n",
       "Sweden                  0.210885\n",
       "Switzerland             0.387503\n",
       "Thailand                0.080000\n",
       "Turkey                  0.140000\n",
       "United Arab Emirates    0.463333\n",
       "United Kingdom          0.279820\n",
       "United States           0.273016\n",
       "Uruguay                 0.275006\n",
       "Vietnam                 0.833333\n",
       "Name: Percentage, dtype: float64"
      ]
     },
     "execution_count": 93,
     "metadata": {},
     "output_type": "execute_result"
    }
   ],
   "source": [
    "df[\"Percentage\"].groupby(df[\"Country\"]).mean()"
   ]
  },
  {
   "cell_type": "code",
   "execution_count": 95,
   "id": "f4294ff5",
   "metadata": {},
   "outputs": [
    {
     "data": {
      "text/plain": [
       "Text(0.5, 1.0, 'Laid Off Count by Country')"
      ]
     },
     "execution_count": 95,
     "metadata": {},
     "output_type": "execute_result"
    },
    {
     "data": {
      "image/png": "[encoded data removed]",
      "text/plain": [
       "<Figure size 432x288 with 1 Axes>"
      ]
     },
     "metadata": {
      "needs_background": "light"
     },
     "output_type": "display_data"
    }
   ],
   "source": [
    "sns.countplot(data = df, x = \"Country\", hue = \"Laid_Off_Count 2\")\n",
    "plt.title('Laid Off Count by Country')"
   ]
  },
  {
   "cell_type": "code",
   "execution_count": null,
   "id": "f5b7bb81",
   "metadata": {},
   "outputs": [],
   "source": []
  }
 ],
 "metadata": {
  "kernelspec": {
   "display_name": "Python 3 (ipykernel)",
   "language": "python",
   "name": "python3"
  },
  "language_info": {
   "codemirror_mode": {
    "name": "ipython",
    "version": 3
   },
   "file_extension": ".py",
   "mimetype": "text/x-python",
   "name": "python",
   "nbconvert_exporter": "python",
   "pygments_lexer": "ipython3",
   "version": "3.9.7"
  }
 },
 "nbformat": 4,
 "nbformat_minor": 5
}
